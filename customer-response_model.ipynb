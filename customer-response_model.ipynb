{
 "cells": [
  {
   "cell_type": "markdown",
   "id": "e5222f30",
   "metadata": {},
   "source": [
    "# Data Preparation"
   ]
  },
  {
   "cell_type": "markdown",
   "id": "young-calcium",
   "metadata": {
    "id": "young-calcium"
   },
   "source": [
    "## Import Libraries"
   ]
  },
  {
   "cell_type": "code",
   "execution_count": 1,
   "id": "specialized-spirit",
   "metadata": {
    "id": "specialized-spirit"
   },
   "outputs": [],
   "source": [
    "import pandas as pd\n",
    "import numpy as np\n",
    "import seaborn as sns\n",
    "\n",
    "import matplotlib.pyplot as plt\n",
    "import seaborn as sns\n",
    "\n",
    "import warnings\n",
    "warnings.filterwarnings('ignore')\n",
    "\n",
    "pd.options.display.max_columns = 30"
   ]
  },
  {
   "cell_type": "markdown",
   "id": "a6fb7417",
   "metadata": {},
   "source": [
    "## Load Data"
   ]
  },
  {
   "cell_type": "code",
   "execution_count": 2,
   "id": "8287b9b0",
   "metadata": {
    "id": "hourly-house"
   },
   "outputs": [],
   "source": [
    "def load_data(path):\n",
    "    \"\"\"\n",
    "    Description : loads data from csv file into a pandas dataframe\n",
    "    \n",
    "    Argument : path\n",
    "    \"\"\"\n",
    "    \n",
    "    df = pd.read_csv(path, parse_dates=['Date_Customer'])\n",
    "    return df"
   ]
  },
  {
   "cell_type": "code",
   "execution_count": 3,
   "id": "5af49fe0",
   "metadata": {
    "id": "hourly-house"
   },
   "outputs": [],
   "source": [
    "# load training and test data\n",
    "train = load_data(\"data/Train.csv\")\n",
    "test = load_data(\"data/Test.csv\")"
   ]
  },
  {
   "cell_type": "code",
   "execution_count": 4,
   "id": "a704cd73",
   "metadata": {},
   "outputs": [
    {
     "data": {
      "text/html": [
       "<div>\n",
       "<style scoped>\n",
       "    .dataframe tbody tr th:only-of-type {\n",
       "        vertical-align: middle;\n",
       "    }\n",
       "\n",
       "    .dataframe tbody tr th {\n",
       "        vertical-align: top;\n",
       "    }\n",
       "\n",
       "    .dataframe thead th {\n",
       "        text-align: right;\n",
       "    }\n",
       "</style>\n",
       "<table border=\"1\" class=\"dataframe\">\n",
       "  <thead>\n",
       "    <tr style=\"text-align: right;\">\n",
       "      <th></th>\n",
       "      <th>ID</th>\n",
       "      <th>Year_of_Birth</th>\n",
       "      <th>Education_Level</th>\n",
       "      <th>Marital_Status</th>\n",
       "      <th>Disposable_Income</th>\n",
       "      <th>No_of_Kids_in_home</th>\n",
       "      <th>No_of_Teen_in_home</th>\n",
       "      <th>Date_Customer</th>\n",
       "      <th>Recency</th>\n",
       "      <th>Discounted_Purchases</th>\n",
       "      <th>WebPurchases</th>\n",
       "      <th>CatalogPurchases</th>\n",
       "      <th>StorePurchases</th>\n",
       "      <th>Amount_on_Wines</th>\n",
       "      <th>Amount_on_Fruits</th>\n",
       "      <th>Amount_on_MeatProducts</th>\n",
       "      <th>Amount_on_FishProducts</th>\n",
       "      <th>Amount_on_SweetProducts</th>\n",
       "      <th>Amount_on_GoldProds</th>\n",
       "      <th>WebVisitsMonth</th>\n",
       "      <th>Cmp3Accepted</th>\n",
       "      <th>Cmp4Accepted</th>\n",
       "      <th>Cmp5Accepted</th>\n",
       "      <th>Cmp1Accepted</th>\n",
       "      <th>Cmp2Accepted</th>\n",
       "      <th>Any_Complain</th>\n",
       "      <th>Response</th>\n",
       "    </tr>\n",
       "  </thead>\n",
       "  <tbody>\n",
       "    <tr>\n",
       "      <th>0</th>\n",
       "      <td>ID_4A9AR6FQ</td>\n",
       "      <td>1955</td>\n",
       "      <td>Graduation</td>\n",
       "      <td>Divorced</td>\n",
       "      <td>77504.4</td>\n",
       "      <td>1</td>\n",
       "      <td>1</td>\n",
       "      <td>2014-06-22</td>\n",
       "      <td>56</td>\n",
       "      <td>2</td>\n",
       "      <td>1</td>\n",
       "      <td>1</td>\n",
       "      <td>4</td>\n",
       "      <td>71</td>\n",
       "      <td>3</td>\n",
       "      <td>16</td>\n",
       "      <td>0</td>\n",
       "      <td>6</td>\n",
       "      <td>20</td>\n",
       "      <td>3</td>\n",
       "      <td>0</td>\n",
       "      <td>0</td>\n",
       "      <td>0</td>\n",
       "      <td>0</td>\n",
       "      <td>0</td>\n",
       "      <td>0</td>\n",
       "      <td>0</td>\n",
       "    </tr>\n",
       "    <tr>\n",
       "      <th>1</th>\n",
       "      <td>ID_X28T3VEK</td>\n",
       "      <td>1958</td>\n",
       "      <td>Graduation</td>\n",
       "      <td>Together</td>\n",
       "      <td>56784.0</td>\n",
       "      <td>0</td>\n",
       "      <td>1</td>\n",
       "      <td>2013-01-08</td>\n",
       "      <td>17</td>\n",
       "      <td>6</td>\n",
       "      <td>5</td>\n",
       "      <td>1</td>\n",
       "      <td>8</td>\n",
       "      <td>205</td>\n",
       "      <td>22</td>\n",
       "      <td>111</td>\n",
       "      <td>50</td>\n",
       "      <td>15</td>\n",
       "      <td>19</td>\n",
       "      <td>6</td>\n",
       "      <td>0</td>\n",
       "      <td>0</td>\n",
       "      <td>0</td>\n",
       "      <td>0</td>\n",
       "      <td>0</td>\n",
       "      <td>0</td>\n",
       "      <td>0</td>\n",
       "    </tr>\n",
       "    <tr>\n",
       "      <th>2</th>\n",
       "      <td>ID_AWXARH57</td>\n",
       "      <td>1962</td>\n",
       "      <td>Graduation</td>\n",
       "      <td>Single</td>\n",
       "      <td>103714.8</td>\n",
       "      <td>0</td>\n",
       "      <td>0</td>\n",
       "      <td>2013-11-21</td>\n",
       "      <td>17</td>\n",
       "      <td>0</td>\n",
       "      <td>7</td>\n",
       "      <td>4</td>\n",
       "      <td>7</td>\n",
       "      <td>469</td>\n",
       "      <td>31</td>\n",
       "      <td>873</td>\n",
       "      <td>29</td>\n",
       "      <td>18</td>\n",
       "      <td>37</td>\n",
       "      <td>2</td>\n",
       "      <td>0</td>\n",
       "      <td>0</td>\n",
       "      <td>0</td>\n",
       "      <td>1</td>\n",
       "      <td>0</td>\n",
       "      <td>0</td>\n",
       "      <td>1</td>\n",
       "    </tr>\n",
       "    <tr>\n",
       "      <th>3</th>\n",
       "      <td>ID_FQVZHE81</td>\n",
       "      <td>1979</td>\n",
       "      <td>2n Cycle</td>\n",
       "      <td>Single</td>\n",
       "      <td>46311.6</td>\n",
       "      <td>1</td>\n",
       "      <td>0</td>\n",
       "      <td>2013-09-13</td>\n",
       "      <td>49</td>\n",
       "      <td>3</td>\n",
       "      <td>4</td>\n",
       "      <td>1</td>\n",
       "      <td>3</td>\n",
       "      <td>56</td>\n",
       "      <td>15</td>\n",
       "      <td>49</td>\n",
       "      <td>17</td>\n",
       "      <td>24</td>\n",
       "      <td>24</td>\n",
       "      <td>8</td>\n",
       "      <td>0</td>\n",
       "      <td>0</td>\n",
       "      <td>0</td>\n",
       "      <td>0</td>\n",
       "      <td>0</td>\n",
       "      <td>0</td>\n",
       "      <td>0</td>\n",
       "    </tr>\n",
       "    <tr>\n",
       "      <th>4</th>\n",
       "      <td>ID_QVLWGPRN</td>\n",
       "      <td>1959</td>\n",
       "      <td>Graduation</td>\n",
       "      <td>Married</td>\n",
       "      <td>87486.0</td>\n",
       "      <td>0</td>\n",
       "      <td>0</td>\n",
       "      <td>2014-01-21</td>\n",
       "      <td>59</td>\n",
       "      <td>1</td>\n",
       "      <td>3</td>\n",
       "      <td>7</td>\n",
       "      <td>9</td>\n",
       "      <td>412</td>\n",
       "      <td>117</td>\n",
       "      <td>445</td>\n",
       "      <td>181</td>\n",
       "      <td>165</td>\n",
       "      <td>203</td>\n",
       "      <td>1</td>\n",
       "      <td>0</td>\n",
       "      <td>0</td>\n",
       "      <td>0</td>\n",
       "      <td>1</td>\n",
       "      <td>0</td>\n",
       "      <td>0</td>\n",
       "      <td>0</td>\n",
       "    </tr>\n",
       "  </tbody>\n",
       "</table>\n",
       "</div>"
      ],
      "text/plain": [
       "            ID  Year_of_Birth Education_Level Marital_Status  \\\n",
       "0  ID_4A9AR6FQ           1955      Graduation       Divorced   \n",
       "1  ID_X28T3VEK           1958      Graduation       Together   \n",
       "2  ID_AWXARH57           1962      Graduation         Single   \n",
       "3  ID_FQVZHE81           1979        2n Cycle         Single   \n",
       "4  ID_QVLWGPRN           1959      Graduation        Married   \n",
       "\n",
       "   Disposable_Income  No_of_Kids_in_home  No_of_Teen_in_home Date_Customer  \\\n",
       "0            77504.4                   1                   1    2014-06-22   \n",
       "1            56784.0                   0                   1    2013-01-08   \n",
       "2           103714.8                   0                   0    2013-11-21   \n",
       "3            46311.6                   1                   0    2013-09-13   \n",
       "4            87486.0                   0                   0    2014-01-21   \n",
       "\n",
       "   Recency  Discounted_Purchases  WebPurchases  CatalogPurchases  \\\n",
       "0       56                     2             1                 1   \n",
       "1       17                     6             5                 1   \n",
       "2       17                     0             7                 4   \n",
       "3       49                     3             4                 1   \n",
       "4       59                     1             3                 7   \n",
       "\n",
       "   StorePurchases  Amount_on_Wines  Amount_on_Fruits  Amount_on_MeatProducts  \\\n",
       "0               4               71                 3                      16   \n",
       "1               8              205                22                     111   \n",
       "2               7              469                31                     873   \n",
       "3               3               56                15                      49   \n",
       "4               9              412               117                     445   \n",
       "\n",
       "   Amount_on_FishProducts  Amount_on_SweetProducts  Amount_on_GoldProds  \\\n",
       "0                       0                        6                   20   \n",
       "1                      50                       15                   19   \n",
       "2                      29                       18                   37   \n",
       "3                      17                       24                   24   \n",
       "4                     181                      165                  203   \n",
       "\n",
       "   WebVisitsMonth  Cmp3Accepted  Cmp4Accepted  Cmp5Accepted  Cmp1Accepted  \\\n",
       "0               3             0             0             0             0   \n",
       "1               6             0             0             0             0   \n",
       "2               2             0             0             0             1   \n",
       "3               8             0             0             0             0   \n",
       "4               1             0             0             0             1   \n",
       "\n",
       "   Cmp2Accepted  Any_Complain  Response  \n",
       "0             0             0         0  \n",
       "1             0             0         0  \n",
       "2             0             0         1  \n",
       "3             0             0         0  \n",
       "4             0             0         0  "
      ]
     },
     "execution_count": 4,
     "metadata": {},
     "output_type": "execute_result"
    }
   ],
   "source": [
    "train.head()"
   ]
  },
  {
   "cell_type": "markdown",
   "id": "flying-treaty",
   "metadata": {
    "id": "flying-treaty"
   },
   "source": [
    "## User Defined Functions"
   ]
  },
  {
   "cell_type": "code",
   "execution_count": 5,
   "id": "1753f179",
   "metadata": {
    "id": "boring-instrumentation"
   },
   "outputs": [],
   "source": [
    "def quality_report(df):\n",
    "    \"\"\"\n",
    "    Description: Displays shape of dataset and quality of data in terms of missing values, unique numbers, datatypes etc.\n",
    "    \n",
    "    Arguments: Dataframe\n",
    "    \"\"\"\n",
    "    \n",
    "    print(f'The dataset contains {df.shape[0]} entries and {df.shape[1]} columns')\n",
    "    dtypes = df.dtypes\n",
    "    nunique = df.nunique()\n",
    "    total_missing = df.isnull().sum().sort_values(ascending = False)\n",
    "    percent_missing = (df.isnull().mean()*100).sort_values(ascending = False)\n",
    "    quality_df  = pd.concat([total_missing, percent_missing, nunique, dtypes], axis=1, \n",
    "                            keys=['Total Missing', 'Percent Missing', 'Nunique', 'Dtype'])\n",
    "\n",
    "    return quality_df\n",
    "\n",
    "            \n",
    "def numeric_distribution_plot(df):\n",
    "    \"\"\"\n",
    "    Description :returns distribution plot for all the numeric features in the dataframe\n",
    "    \n",
    "    Argument : Dataframe\n",
    "    \"\"\"\n",
    "    for col in df.select_dtypes(exclude='object').columns.to_list():\n",
    "        print(\"\\n\", \"=\"*20, col, \"=\"*20)\n",
    "        plt.figure(figsize=(6,4))\n",
    "        plt.title(f\"Distribution of {col}\")\n",
    "        ax = sns.distplot(df[col].dropna())\n",
    "        plt.tight_layout()\n",
    "        plt.show()"
   ]
  },
  {
   "cell_type": "markdown",
   "id": "narrow-latin",
   "metadata": {
    "id": "narrow-latin"
   },
   "source": [
    "## Quick EDA"
   ]
  },
  {
   "cell_type": "code",
   "execution_count": 5,
   "id": "70497521",
   "metadata": {},
   "outputs": [],
   "source": [
    "# train.isnull().sum()"
   ]
  },
  {
   "cell_type": "code",
   "execution_count": 6,
   "id": "continent-conviction",
   "metadata": {
    "id": "continent-conviction",
    "outputId": "877c2ba8-7e89-4160-94f1-6e8d2189403c"
   },
   "outputs": [
    {
     "name": "stdout",
     "output_type": "stream",
     "text": [
      "The dataset contains 1568 entries and 27 columns\n"
     ]
    },
    {
     "data": {
      "text/html": [
       "<div>\n",
       "<style scoped>\n",
       "    .dataframe tbody tr th:only-of-type {\n",
       "        vertical-align: middle;\n",
       "    }\n",
       "\n",
       "    .dataframe tbody tr th {\n",
       "        vertical-align: top;\n",
       "    }\n",
       "\n",
       "    .dataframe thead th {\n",
       "        text-align: right;\n",
       "    }\n",
       "</style>\n",
       "<table border=\"1\" class=\"dataframe\">\n",
       "  <thead>\n",
       "    <tr style=\"text-align: right;\">\n",
       "      <th></th>\n",
       "      <th>Total Missing</th>\n",
       "      <th>Percent Missing</th>\n",
       "      <th>Nunique</th>\n",
       "      <th>Dtype</th>\n",
       "    </tr>\n",
       "  </thead>\n",
       "  <tbody>\n",
       "    <tr>\n",
       "      <th>Disposable_Income</th>\n",
       "      <td>16</td>\n",
       "      <td>1.020408</td>\n",
       "      <td>1431</td>\n",
       "      <td>float64</td>\n",
       "    </tr>\n",
       "    <tr>\n",
       "      <th>ID</th>\n",
       "      <td>0</td>\n",
       "      <td>0.000000</td>\n",
       "      <td>1568</td>\n",
       "      <td>object</td>\n",
       "    </tr>\n",
       "    <tr>\n",
       "      <th>Amount_on_Fruits</th>\n",
       "      <td>0</td>\n",
       "      <td>0.000000</td>\n",
       "      <td>148</td>\n",
       "      <td>int64</td>\n",
       "    </tr>\n",
       "    <tr>\n",
       "      <th>Any_Complain</th>\n",
       "      <td>0</td>\n",
       "      <td>0.000000</td>\n",
       "      <td>2</td>\n",
       "      <td>int64</td>\n",
       "    </tr>\n",
       "    <tr>\n",
       "      <th>Cmp2Accepted</th>\n",
       "      <td>0</td>\n",
       "      <td>0.000000</td>\n",
       "      <td>2</td>\n",
       "      <td>int64</td>\n",
       "    </tr>\n",
       "    <tr>\n",
       "      <th>Cmp1Accepted</th>\n",
       "      <td>0</td>\n",
       "      <td>0.000000</td>\n",
       "      <td>2</td>\n",
       "      <td>int64</td>\n",
       "    </tr>\n",
       "    <tr>\n",
       "      <th>Cmp5Accepted</th>\n",
       "      <td>0</td>\n",
       "      <td>0.000000</td>\n",
       "      <td>2</td>\n",
       "      <td>int64</td>\n",
       "    </tr>\n",
       "    <tr>\n",
       "      <th>Cmp4Accepted</th>\n",
       "      <td>0</td>\n",
       "      <td>0.000000</td>\n",
       "      <td>2</td>\n",
       "      <td>int64</td>\n",
       "    </tr>\n",
       "    <tr>\n",
       "      <th>Cmp3Accepted</th>\n",
       "      <td>0</td>\n",
       "      <td>0.000000</td>\n",
       "      <td>2</td>\n",
       "      <td>int64</td>\n",
       "    </tr>\n",
       "    <tr>\n",
       "      <th>WebVisitsMonth</th>\n",
       "      <td>0</td>\n",
       "      <td>0.000000</td>\n",
       "      <td>16</td>\n",
       "      <td>int64</td>\n",
       "    </tr>\n",
       "    <tr>\n",
       "      <th>Amount_on_GoldProds</th>\n",
       "      <td>0</td>\n",
       "      <td>0.000000</td>\n",
       "      <td>199</td>\n",
       "      <td>int64</td>\n",
       "    </tr>\n",
       "    <tr>\n",
       "      <th>Amount_on_SweetProducts</th>\n",
       "      <td>0</td>\n",
       "      <td>0.000000</td>\n",
       "      <td>163</td>\n",
       "      <td>int64</td>\n",
       "    </tr>\n",
       "    <tr>\n",
       "      <th>Amount_on_FishProducts</th>\n",
       "      <td>0</td>\n",
       "      <td>0.000000</td>\n",
       "      <td>170</td>\n",
       "      <td>int64</td>\n",
       "    </tr>\n",
       "    <tr>\n",
       "      <th>Amount_on_MeatProducts</th>\n",
       "      <td>0</td>\n",
       "      <td>0.000000</td>\n",
       "      <td>486</td>\n",
       "      <td>int64</td>\n",
       "    </tr>\n",
       "    <tr>\n",
       "      <th>Amount_on_Wines</th>\n",
       "      <td>0</td>\n",
       "      <td>0.000000</td>\n",
       "      <td>643</td>\n",
       "      <td>int64</td>\n",
       "    </tr>\n",
       "    <tr>\n",
       "      <th>Year_of_Birth</th>\n",
       "      <td>0</td>\n",
       "      <td>0.000000</td>\n",
       "      <td>56</td>\n",
       "      <td>int64</td>\n",
       "    </tr>\n",
       "    <tr>\n",
       "      <th>StorePurchases</th>\n",
       "      <td>0</td>\n",
       "      <td>0.000000</td>\n",
       "      <td>14</td>\n",
       "      <td>int64</td>\n",
       "    </tr>\n",
       "    <tr>\n",
       "      <th>CatalogPurchases</th>\n",
       "      <td>0</td>\n",
       "      <td>0.000000</td>\n",
       "      <td>14</td>\n",
       "      <td>int64</td>\n",
       "    </tr>\n",
       "    <tr>\n",
       "      <th>WebPurchases</th>\n",
       "      <td>0</td>\n",
       "      <td>0.000000</td>\n",
       "      <td>14</td>\n",
       "      <td>int64</td>\n",
       "    </tr>\n",
       "    <tr>\n",
       "      <th>Discounted_Purchases</th>\n",
       "      <td>0</td>\n",
       "      <td>0.000000</td>\n",
       "      <td>15</td>\n",
       "      <td>int64</td>\n",
       "    </tr>\n",
       "    <tr>\n",
       "      <th>Recency</th>\n",
       "      <td>0</td>\n",
       "      <td>0.000000</td>\n",
       "      <td>100</td>\n",
       "      <td>int64</td>\n",
       "    </tr>\n",
       "    <tr>\n",
       "      <th>Date_Customer</th>\n",
       "      <td>0</td>\n",
       "      <td>0.000000</td>\n",
       "      <td>619</td>\n",
       "      <td>datetime64[ns]</td>\n",
       "    </tr>\n",
       "    <tr>\n",
       "      <th>No_of_Teen_in_home</th>\n",
       "      <td>0</td>\n",
       "      <td>0.000000</td>\n",
       "      <td>3</td>\n",
       "      <td>int64</td>\n",
       "    </tr>\n",
       "    <tr>\n",
       "      <th>No_of_Kids_in_home</th>\n",
       "      <td>0</td>\n",
       "      <td>0.000000</td>\n",
       "      <td>3</td>\n",
       "      <td>int64</td>\n",
       "    </tr>\n",
       "    <tr>\n",
       "      <th>Marital_Status</th>\n",
       "      <td>0</td>\n",
       "      <td>0.000000</td>\n",
       "      <td>8</td>\n",
       "      <td>object</td>\n",
       "    </tr>\n",
       "    <tr>\n",
       "      <th>Education_Level</th>\n",
       "      <td>0</td>\n",
       "      <td>0.000000</td>\n",
       "      <td>5</td>\n",
       "      <td>object</td>\n",
       "    </tr>\n",
       "    <tr>\n",
       "      <th>Response</th>\n",
       "      <td>0</td>\n",
       "      <td>0.000000</td>\n",
       "      <td>2</td>\n",
       "      <td>int64</td>\n",
       "    </tr>\n",
       "  </tbody>\n",
       "</table>\n",
       "</div>"
      ],
      "text/plain": [
       "                         Total Missing  Percent Missing  Nunique  \\\n",
       "Disposable_Income                   16         1.020408     1431   \n",
       "ID                                   0         0.000000     1568   \n",
       "Amount_on_Fruits                     0         0.000000      148   \n",
       "Any_Complain                         0         0.000000        2   \n",
       "Cmp2Accepted                         0         0.000000        2   \n",
       "Cmp1Accepted                         0         0.000000        2   \n",
       "Cmp5Accepted                         0         0.000000        2   \n",
       "Cmp4Accepted                         0         0.000000        2   \n",
       "Cmp3Accepted                         0         0.000000        2   \n",
       "WebVisitsMonth                       0         0.000000       16   \n",
       "Amount_on_GoldProds                  0         0.000000      199   \n",
       "Amount_on_SweetProducts              0         0.000000      163   \n",
       "Amount_on_FishProducts               0         0.000000      170   \n",
       "Amount_on_MeatProducts               0         0.000000      486   \n",
       "Amount_on_Wines                      0         0.000000      643   \n",
       "Year_of_Birth                        0         0.000000       56   \n",
       "StorePurchases                       0         0.000000       14   \n",
       "CatalogPurchases                     0         0.000000       14   \n",
       "WebPurchases                         0         0.000000       14   \n",
       "Discounted_Purchases                 0         0.000000       15   \n",
       "Recency                              0         0.000000      100   \n",
       "Date_Customer                        0         0.000000      619   \n",
       "No_of_Teen_in_home                   0         0.000000        3   \n",
       "No_of_Kids_in_home                   0         0.000000        3   \n",
       "Marital_Status                       0         0.000000        8   \n",
       "Education_Level                      0         0.000000        5   \n",
       "Response                             0         0.000000        2   \n",
       "\n",
       "                                  Dtype  \n",
       "Disposable_Income               float64  \n",
       "ID                               object  \n",
       "Amount_on_Fruits                  int64  \n",
       "Any_Complain                      int64  \n",
       "Cmp2Accepted                      int64  \n",
       "Cmp1Accepted                      int64  \n",
       "Cmp5Accepted                      int64  \n",
       "Cmp4Accepted                      int64  \n",
       "Cmp3Accepted                      int64  \n",
       "WebVisitsMonth                    int64  \n",
       "Amount_on_GoldProds               int64  \n",
       "Amount_on_SweetProducts           int64  \n",
       "Amount_on_FishProducts            int64  \n",
       "Amount_on_MeatProducts            int64  \n",
       "Amount_on_Wines                   int64  \n",
       "Year_of_Birth                     int64  \n",
       "StorePurchases                    int64  \n",
       "CatalogPurchases                  int64  \n",
       "WebPurchases                      int64  \n",
       "Discounted_Purchases              int64  \n",
       "Recency                           int64  \n",
       "Date_Customer            datetime64[ns]  \n",
       "No_of_Teen_in_home                int64  \n",
       "No_of_Kids_in_home                int64  \n",
       "Marital_Status                   object  \n",
       "Education_Level                  object  \n",
       "Response                          int64  "
      ]
     },
     "execution_count": 6,
     "metadata": {},
     "output_type": "execute_result"
    }
   ],
   "source": [
    "# check for missing values, unique values in each column and each columns datatype\n",
    "quality_report(train)"
   ]
  },
  {
   "cell_type": "code",
   "execution_count": 7,
   "id": "cf0bb79d",
   "metadata": {
    "id": "centered-prayer",
    "outputId": "c2106ad6-15f9-4685-c518-3697e8879cde"
   },
   "outputs": [
    {
     "data": {
      "text/plain": [
       "<AxesSubplot:xlabel='Response', ylabel='count'>"
      ]
     },
     "execution_count": 7,
     "metadata": {},
     "output_type": "execute_result"
    },
    {
     "data": {
      "image/png": "[encoded data removed]",
      "text/plain": [
       "<Figure size 432x288 with 1 Axes>"
      ]
     },
     "metadata": {
      "needs_background": "light"
     },
     "output_type": "display_data"
    }
   ],
   "source": [
    "# check distribution of target values\n",
    "sns.countplot(train['Response'])"
   ]
  },
  {
   "cell_type": "code",
   "execution_count": 8,
   "id": "573fbaa8",
   "metadata": {
    "id": "stupid-marsh",
    "outputId": "139f01c7-b54c-4a1d-c73c-5e5af69042b4",
    "scrolled": false
   },
   "outputs": [
    {
     "data": {
      "text/html": [
       "<div>\n",
       "<style scoped>\n",
       "    .dataframe tbody tr th:only-of-type {\n",
       "        vertical-align: middle;\n",
       "    }\n",
       "\n",
       "    .dataframe tbody tr th {\n",
       "        vertical-align: top;\n",
       "    }\n",
       "\n",
       "    .dataframe thead th {\n",
       "        text-align: right;\n",
       "    }\n",
       "</style>\n",
       "<table border=\"1\" class=\"dataframe\">\n",
       "  <thead>\n",
       "    <tr style=\"text-align: right;\">\n",
       "      <th></th>\n",
       "      <th>Year_of_Birth</th>\n",
       "      <th>Disposable_Income</th>\n",
       "      <th>No_of_Kids_in_home</th>\n",
       "      <th>No_of_Teen_in_home</th>\n",
       "      <th>Recency</th>\n",
       "      <th>Discounted_Purchases</th>\n",
       "      <th>WebPurchases</th>\n",
       "      <th>CatalogPurchases</th>\n",
       "      <th>StorePurchases</th>\n",
       "      <th>Amount_on_Wines</th>\n",
       "      <th>Amount_on_Fruits</th>\n",
       "      <th>Amount_on_MeatProducts</th>\n",
       "      <th>Amount_on_FishProducts</th>\n",
       "      <th>Amount_on_SweetProducts</th>\n",
       "      <th>Amount_on_GoldProds</th>\n",
       "      <th>WebVisitsMonth</th>\n",
       "      <th>Cmp3Accepted</th>\n",
       "      <th>Cmp4Accepted</th>\n",
       "      <th>Cmp5Accepted</th>\n",
       "      <th>Cmp1Accepted</th>\n",
       "      <th>Cmp2Accepted</th>\n",
       "      <th>Any_Complain</th>\n",
       "      <th>Response</th>\n",
       "    </tr>\n",
       "  </thead>\n",
       "  <tbody>\n",
       "    <tr>\n",
       "      <th>count</th>\n",
       "      <td>1568.000000</td>\n",
       "      <td>1552.000000</td>\n",
       "      <td>1568.000000</td>\n",
       "      <td>1568.000000</td>\n",
       "      <td>1568.000000</td>\n",
       "      <td>1568.000000</td>\n",
       "      <td>1568.000000</td>\n",
       "      <td>1568.000000</td>\n",
       "      <td>1568.000000</td>\n",
       "      <td>1568.000000</td>\n",
       "      <td>1568.000000</td>\n",
       "      <td>1568.000000</td>\n",
       "      <td>1568.000000</td>\n",
       "      <td>1568.000000</td>\n",
       "      <td>1568.000000</td>\n",
       "      <td>1568.000000</td>\n",
       "      <td>1568.000000</td>\n",
       "      <td>1568.000000</td>\n",
       "      <td>1568.000000</td>\n",
       "      <td>1568.000000</td>\n",
       "      <td>1568.000000</td>\n",
       "      <td>1568.000000</td>\n",
       "      <td>1568.000000</td>\n",
       "    </tr>\n",
       "    <tr>\n",
       "      <th>mean</th>\n",
       "      <td>1970.073342</td>\n",
       "      <td>62381.186598</td>\n",
       "      <td>0.460459</td>\n",
       "      <td>0.497449</td>\n",
       "      <td>55.408801</td>\n",
       "      <td>2.292730</td>\n",
       "      <td>4.001276</td>\n",
       "      <td>2.665816</td>\n",
       "      <td>5.703444</td>\n",
       "      <td>303.190051</td>\n",
       "      <td>29.091199</td>\n",
       "      <td>168.376276</td>\n",
       "      <td>37.166454</td>\n",
       "      <td>26.800383</td>\n",
       "      <td>43.739158</td>\n",
       "      <td>5.326531</td>\n",
       "      <td>0.072704</td>\n",
       "      <td>0.072704</td>\n",
       "      <td>0.080357</td>\n",
       "      <td>0.064413</td>\n",
       "      <td>0.012755</td>\n",
       "      <td>0.008291</td>\n",
       "      <td>0.152423</td>\n",
       "    </tr>\n",
       "    <tr>\n",
       "      <th>std</th>\n",
       "      <td>11.920781</td>\n",
       "      <td>32089.169563</td>\n",
       "      <td>0.540361</td>\n",
       "      <td>0.544151</td>\n",
       "      <td>28.788037</td>\n",
       "      <td>1.937544</td>\n",
       "      <td>2.773748</td>\n",
       "      <td>3.043493</td>\n",
       "      <td>3.260553</td>\n",
       "      <td>340.141396</td>\n",
       "      <td>39.565637</td>\n",
       "      <td>233.419980</td>\n",
       "      <td>53.994951</td>\n",
       "      <td>40.857657</td>\n",
       "      <td>51.591557</td>\n",
       "      <td>2.468023</td>\n",
       "      <td>0.259733</td>\n",
       "      <td>0.259733</td>\n",
       "      <td>0.271932</td>\n",
       "      <td>0.245566</td>\n",
       "      <td>0.112252</td>\n",
       "      <td>0.090705</td>\n",
       "      <td>0.359546</td>\n",
       "    </tr>\n",
       "    <tr>\n",
       "      <th>min</th>\n",
       "      <td>1900.000000</td>\n",
       "      <td>2076.000000</td>\n",
       "      <td>0.000000</td>\n",
       "      <td>0.000000</td>\n",
       "      <td>7.000000</td>\n",
       "      <td>0.000000</td>\n",
       "      <td>0.000000</td>\n",
       "      <td>0.000000</td>\n",
       "      <td>0.000000</td>\n",
       "      <td>5.000000</td>\n",
       "      <td>3.000000</td>\n",
       "      <td>0.000000</td>\n",
       "      <td>0.000000</td>\n",
       "      <td>0.000000</td>\n",
       "      <td>0.000000</td>\n",
       "      <td>0.000000</td>\n",
       "      <td>0.000000</td>\n",
       "      <td>0.000000</td>\n",
       "      <td>0.000000</td>\n",
       "      <td>0.000000</td>\n",
       "      <td>0.000000</td>\n",
       "      <td>0.000000</td>\n",
       "      <td>0.000000</td>\n",
       "    </tr>\n",
       "    <tr>\n",
       "      <th>25%</th>\n",
       "      <td>1960.000000</td>\n",
       "      <td>41612.400000</td>\n",
       "      <td>0.000000</td>\n",
       "      <td>0.000000</td>\n",
       "      <td>31.000000</td>\n",
       "      <td>1.000000</td>\n",
       "      <td>2.000000</td>\n",
       "      <td>0.000000</td>\n",
       "      <td>3.000000</td>\n",
       "      <td>27.000000</td>\n",
       "      <td>4.000000</td>\n",
       "      <td>15.000000</td>\n",
       "      <td>3.000000</td>\n",
       "      <td>1.000000</td>\n",
       "      <td>8.000000</td>\n",
       "      <td>3.000000</td>\n",
       "      <td>0.000000</td>\n",
       "      <td>0.000000</td>\n",
       "      <td>0.000000</td>\n",
       "      <td>0.000000</td>\n",
       "      <td>0.000000</td>\n",
       "      <td>0.000000</td>\n",
       "      <td>0.000000</td>\n",
       "    </tr>\n",
       "    <tr>\n",
       "      <th>50%</th>\n",
       "      <td>1971.000000</td>\n",
       "      <td>60964.200000</td>\n",
       "      <td>0.000000</td>\n",
       "      <td>0.000000</td>\n",
       "      <td>56.000000</td>\n",
       "      <td>2.000000</td>\n",
       "      <td>3.000000</td>\n",
       "      <td>2.000000</td>\n",
       "      <td>5.000000</td>\n",
       "      <td>167.000000</td>\n",
       "      <td>11.000000</td>\n",
       "      <td>64.000000</td>\n",
       "      <td>12.000000</td>\n",
       "      <td>8.000000</td>\n",
       "      <td>25.000000</td>\n",
       "      <td>6.000000</td>\n",
       "      <td>0.000000</td>\n",
       "      <td>0.000000</td>\n",
       "      <td>0.000000</td>\n",
       "      <td>0.000000</td>\n",
       "      <td>0.000000</td>\n",
       "      <td>0.000000</td>\n",
       "      <td>0.000000</td>\n",
       "    </tr>\n",
       "    <tr>\n",
       "      <th>75%</th>\n",
       "      <td>1979.000000</td>\n",
       "      <td>81493.200000</td>\n",
       "      <td>1.000000</td>\n",
       "      <td>1.000000</td>\n",
       "      <td>80.000000</td>\n",
       "      <td>3.000000</td>\n",
       "      <td>6.000000</td>\n",
       "      <td>4.000000</td>\n",
       "      <td>8.000000</td>\n",
       "      <td>499.500000</td>\n",
       "      <td>36.000000</td>\n",
       "      <td>232.000000</td>\n",
       "      <td>49.250000</td>\n",
       "      <td>33.000000</td>\n",
       "      <td>56.000000</td>\n",
       "      <td>7.000000</td>\n",
       "      <td>0.000000</td>\n",
       "      <td>0.000000</td>\n",
       "      <td>0.000000</td>\n",
       "      <td>0.000000</td>\n",
       "      <td>0.000000</td>\n",
       "      <td>0.000000</td>\n",
       "      <td>0.000000</td>\n",
       "    </tr>\n",
       "    <tr>\n",
       "      <th>max</th>\n",
       "      <td>1997.000000</td>\n",
       "      <td>799999.200000</td>\n",
       "      <td>2.000000</td>\n",
       "      <td>2.000000</td>\n",
       "      <td>106.000000</td>\n",
       "      <td>15.000000</td>\n",
       "      <td>27.000000</td>\n",
       "      <td>28.000000</td>\n",
       "      <td>13.000000</td>\n",
       "      <td>1498.000000</td>\n",
       "      <td>202.000000</td>\n",
       "      <td>1725.000000</td>\n",
       "      <td>259.000000</td>\n",
       "      <td>263.000000</td>\n",
       "      <td>362.000000</td>\n",
       "      <td>20.000000</td>\n",
       "      <td>1.000000</td>\n",
       "      <td>1.000000</td>\n",
       "      <td>1.000000</td>\n",
       "      <td>1.000000</td>\n",
       "      <td>1.000000</td>\n",
       "      <td>1.000000</td>\n",
       "      <td>1.000000</td>\n",
       "    </tr>\n",
       "  </tbody>\n",
       "</table>\n",
       "</div>"
      ],
      "text/plain": [
       "       Year_of_Birth  Disposable_Income  No_of_Kids_in_home  \\\n",
       "count    1568.000000        1552.000000         1568.000000   \n",
       "mean     1970.073342       62381.186598            0.460459   \n",
       "std        11.920781       32089.169563            0.540361   \n",
       "min      1900.000000        2076.000000            0.000000   \n",
       "25%      1960.000000       41612.400000            0.000000   \n",
       "50%      1971.000000       60964.200000            0.000000   \n",
       "75%      1979.000000       81493.200000            1.000000   \n",
       "max      1997.000000      799999.200000            2.000000   \n",
       "\n",
       "       No_of_Teen_in_home      Recency  Discounted_Purchases  WebPurchases  \\\n",
       "count         1568.000000  1568.000000           1568.000000   1568.000000   \n",
       "mean             0.497449    55.408801              2.292730      4.001276   \n",
       "std              0.544151    28.788037              1.937544      2.773748   \n",
       "min              0.000000     7.000000              0.000000      0.000000   \n",
       "25%              0.000000    31.000000              1.000000      2.000000   \n",
       "50%              0.000000    56.000000              2.000000      3.000000   \n",
       "75%              1.000000    80.000000              3.000000      6.000000   \n",
       "max              2.000000   106.000000             15.000000     27.000000   \n",
       "\n",
       "       CatalogPurchases  StorePurchases  Amount_on_Wines  Amount_on_Fruits  \\\n",
       "count       1568.000000     1568.000000      1568.000000       1568.000000   \n",
       "mean           2.665816        5.703444       303.190051         29.091199   \n",
       "std            3.043493        3.260553       340.141396         39.565637   \n",
       "min            0.000000        0.000000         5.000000          3.000000   \n",
       "25%            0.000000        3.000000        27.000000          4.000000   \n",
       "50%            2.000000        5.000000       167.000000         11.000000   \n",
       "75%            4.000000        8.000000       499.500000         36.000000   \n",
       "max           28.000000       13.000000      1498.000000        202.000000   \n",
       "\n",
       "       Amount_on_MeatProducts  Amount_on_FishProducts  \\\n",
       "count             1568.000000             1568.000000   \n",
       "mean               168.376276               37.166454   \n",
       "std                233.419980               53.994951   \n",
       "min                  0.000000                0.000000   \n",
       "25%                 15.000000                3.000000   \n",
       "50%                 64.000000               12.000000   \n",
       "75%                232.000000               49.250000   \n",
       "max               1725.000000              259.000000   \n",
       "\n",
       "       Amount_on_SweetProducts  Amount_on_GoldProds  WebVisitsMonth  \\\n",
       "count              1568.000000          1568.000000     1568.000000   \n",
       "mean                 26.800383            43.739158        5.326531   \n",
       "std                  40.857657            51.591557        2.468023   \n",
       "min                   0.000000             0.000000        0.000000   \n",
       "25%                   1.000000             8.000000        3.000000   \n",
       "50%                   8.000000            25.000000        6.000000   \n",
       "75%                  33.000000            56.000000        7.000000   \n",
       "max                 263.000000           362.000000       20.000000   \n",
       "\n",
       "       Cmp3Accepted  Cmp4Accepted  Cmp5Accepted  Cmp1Accepted  Cmp2Accepted  \\\n",
       "count   1568.000000   1568.000000   1568.000000   1568.000000   1568.000000   \n",
       "mean       0.072704      0.072704      0.080357      0.064413      0.012755   \n",
       "std        0.259733      0.259733      0.271932      0.245566      0.112252   \n",
       "min        0.000000      0.000000      0.000000      0.000000      0.000000   \n",
       "25%        0.000000      0.000000      0.000000      0.000000      0.000000   \n",
       "50%        0.000000      0.000000      0.000000      0.000000      0.000000   \n",
       "75%        0.000000      0.000000      0.000000      0.000000      0.000000   \n",
       "max        1.000000      1.000000      1.000000      1.000000      1.000000   \n",
       "\n",
       "       Any_Complain     Response  \n",
       "count   1568.000000  1568.000000  \n",
       "mean       0.008291     0.152423  \n",
       "std        0.090705     0.359546  \n",
       "min        0.000000     0.000000  \n",
       "25%        0.000000     0.000000  \n",
       "50%        0.000000     0.000000  \n",
       "75%        0.000000     0.000000  \n",
       "max        1.000000     1.000000  "
      ]
     },
     "execution_count": 8,
     "metadata": {},
     "output_type": "execute_result"
    }
   ],
   "source": [
    "# describe training data\n",
    "train.describe()"
   ]
  },
  {
   "cell_type": "code",
   "execution_count": 9,
   "id": "streaming-separate",
   "metadata": {
    "id": "streaming-separate"
   },
   "outputs": [
    {
     "name": "stdout",
     "output_type": "stream",
     "text": [
      "\n",
      " ==================== Year_of_Birth ====================\n"
     ]
    },
    {
     "data": {
      "image/png": "[encoded data removed]",
      "text/plain": [
       "<Figure size 432x288 with 1 Axes>"
      ]
     },
     "metadata": {
      "needs_background": "light"
     },
     "output_type": "display_data"
    },
    {
     "name": "stdout",
     "output_type": "stream",
     "text": [
      "\n",
      " ==================== Disposable_Income ====================\n"
     ]
    },
    {
     "data": {
      "image/png": "[encoded data removed]",
      "text/plain": [
       "<Figure size 432x288 with 1 Axes>"
      ]
     },
     "metadata": {
      "needs_background": "light"
     },
     "output_type": "display_data"
    },
    {
     "name": "stdout",
     "output_type": "stream",
     "text": [
      "\n",
      " ==================== No_of_Kids_in_home ====================\n"
     ]
    },
    {
     "data": {
      "image/png": "[encoded data removed]",
      "text/plain": [
       "<Figure size 432x288 with 1 Axes>"
      ]
     },
     "metadata": {
      "needs_background": "light"
     },
     "output_type": "display_data"
    },
    {
     "name": "stdout",
     "output_type": "stream",
     "text": [
      "\n",
      " ==================== No_of_Teen_in_home ====================\n"
     ]
    },
    {
     "data": {
      "image/png": "[encoded data removed]",
      "text/plain": [
       "<Figure size 432x288 with 1 Axes>"
      ]
     },
     "metadata": {
      "needs_background": "light"
     },
     "output_type": "display_data"
    },
    {
     "name": "stdout",
     "output_type": "stream",
     "text": [
      "\n",
      " ==================== Date_Customer ====================\n"
     ]
    },
    {
     "data": {
      "image/png": "[encoded data removed]",
      "text/plain": [
       "<Figure size 432x288 with 1 Axes>"
      ]
     },
     "metadata": {
      "needs_background": "light"
     },
     "output_type": "display_data"
    },
    {
     "name": "stdout",
     "output_type": "stream",
     "text": [
      "\n",
      " ==================== Recency ====================\n"
     ]
    },
    {
     "data": {
      "image/png": "[encoded data removed]",
      "text/plain": [
       "<Figure size 432x288 with 1 Axes>"
      ]
     },
     "metadata": {
      "needs_background": "light"
     },
     "output_type": "display_data"
    },
    {
     "name": "stdout",
     "output_type": "stream",
     "text": [
      "\n",
      " ==================== Discounted_Purchases ====================\n"
     ]
    },
    {
     "data": {
      "image/png": "[encoded data removed]",
      "text/plain": [
       "<Figure size 432x288 with 1 Axes>"
      ]
     },
     "metadata": {
      "needs_background": "light"
     },
     "output_type": "display_data"
    },
    {
     "name": "stdout",
     "output_type": "stream",
     "text": [
      "\n",
      " ==================== WebPurchases ====================\n"
     ]
    },
    {
     "data": {
      "image/png": "[encoded data removed]",
      "text/plain": [
       "<Figure size 432x288 with 1 Axes>"
      ]
     },
     "metadata": {
      "needs_background": "light"
     },
     "output_type": "display_data"
    },
    {
     "name": "stdout",
     "output_type": "stream",
     "text": [
      "\n",
      " ==================== CatalogPurchases ====================\n"
     ]
    },
    {
     "data": {
      "image/png": "[encoded data removed]",
      "text/plain": [
       "<Figure size 432x288 with 1 Axes>"
      ]
     },
     "metadata": {
      "needs_background": "light"
     },
     "output_type": "display_data"
    },
    {
     "name": "stdout",
     "output_type": "stream",
     "text": [
      "\n",
      " ==================== StorePurchases ====================\n"
     ]
    },
    {
     "data": {
      "image/png": "[encoded data removed]",
      "text/plain": [
       "<Figure size 432x288 with 1 Axes>"
      ]
     },
     "metadata": {
      "needs_background": "light"
     },
     "output_type": "display_data"
    },
    {
     "name": "stdout",
     "output_type": "stream",
     "text": [
      "\n",
      " ==================== Amount_on_Wines ====================\n"
     ]
    },
    {
     "data": {
      "image/png": "[encoded data removed]",
      "text/plain": [
       "<Figure size 432x288 with 1 Axes>"
      ]
     },
     "metadata": {
      "needs_background": "light"
     },
     "output_type": "display_data"
    },
    {
     "name": "stdout",
     "output_type": "stream",
     "text": [
      "\n",
      " ==================== Amount_on_Fruits ====================\n"
     ]
    },
    {
     "data": {
      "image/png": "[encoded data removed]",
      "text/plain": [
       "<Figure size 432x288 with 1 Axes>"
      ]
     },
     "metadata": {
      "needs_background": "light"
     },
     "output_type": "display_data"
    },
    {
     "name": "stdout",
     "output_type": "stream",
     "text": [
      "\n",
      " ==================== Amount_on_MeatProducts ====================\n"
     ]
    },
    {
     "data": {
      "image/png": "[encoded data removed]",
      "text/plain": [
       "<Figure size 432x288 with 1 Axes>"
      ]
     },
     "metadata": {
      "needs_background": "light"
     },
     "output_type": "display_data"
    },
    {
     "name": "stdout",
     "output_type": "stream",
     "text": [
      "\n",
      " ==================== Amount_on_FishProducts ====================\n"
     ]
    },
    {
     "data": {
      "image/png": "[encoded data removed]",
      "text/plain": [
       "<Figure size 432x288 with 1 Axes>"
      ]
     },
     "metadata": {
      "needs_background": "light"
     },
     "output_type": "display_data"
    },
    {
     "name": "stdout",
     "output_type": "stream",
     "text": [
      "\n",
      " ==================== Amount_on_SweetProducts ====================\n"
     ]
    },
    {
     "data": {
      "image/png": "[encoded data removed]",
      "text/plain": [
       "<Figure size 432x288 with 1 Axes>"
      ]
     },
     "metadata": {
      "needs_background": "light"
     },
     "output_type": "display_data"
    },
    {
     "name": "stdout",
     "output_type": "stream",
     "text": [
      "\n",
      " ==================== Amount_on_GoldProds ====================\n"
     ]
    },
    {
     "data": {
      "image/png": "[encoded data removed]",
      "text/plain": [
       "<Figure size 432x288 with 1 Axes>"
      ]
     },
     "metadata": {
      "needs_background": "light"
     },
     "output_type": "display_data"
    },
    {
     "name": "stdout",
     "output_type": "stream",
     "text": [
      "\n",
      " ==================== WebVisitsMonth ====================\n"
     ]
    },
    {
     "data": {
      "image/png": "[encoded data removed]",
      "text/plain": [
       "<Figure size 432x288 with 1 Axes>"
      ]
     },
     "metadata": {
      "needs_background": "light"
     },
     "output_type": "display_data"
    },
    {
     "name": "stdout",
     "output_type": "stream",
     "text": [
      "\n",
      " ==================== Cmp3Accepted ====================\n"
     ]
    },
    {
     "data": {
      "image/png": "[encoded data removed]",
      "text/plain": [
       "<Figure size 432x288 with 1 Axes>"
      ]
     },
     "metadata": {
      "needs_background": "light"
     },
     "output_type": "display_data"
    },
    {
     "name": "stdout",
     "output_type": "stream",
     "text": [
      "\n",
      " ==================== Cmp4Accepted ====================\n"
     ]
    },
    {
     "data": {
      "image/png": "[encoded data removed]",
      "text/plain": [
       "<Figure size 432x288 with 1 Axes>"
      ]
     },
     "metadata": {
      "needs_background": "light"
     },
     "output_type": "display_data"
    },
    {
     "name": "stdout",
     "output_type": "stream",
     "text": [
      "\n",
      " ==================== Cmp5Accepted ====================\n"
     ]
    },
    {
     "data": {
      "image/png": "[encoded data removed]",
      "text/plain": [
       "<Figure size 432x288 with 1 Axes>"
      ]
     },
     "metadata": {
      "needs_background": "light"
     },
     "output_type": "display_data"
    },
    {
     "name": "stdout",
     "output_type": "stream",
     "text": [
      "\n",
      " ==================== Cmp1Accepted ====================\n"
     ]
    },
    {
     "data": {
      "image/png": "[encoded data removed]",
      "text/plain": [
       "<Figure size 432x288 with 1 Axes>"
      ]
     },
     "metadata": {
      "needs_background": "light"
     },
     "output_type": "display_data"
    },
    {
     "name": "stdout",
     "output_type": "stream",
     "text": [
      "\n",
      " ==================== Cmp2Accepted ====================\n"
     ]
    },
    {
     "data": {
      "image/png": "[encoded data removed]",
      "text/plain": [
       "<Figure size 432x288 with 1 Axes>"
      ]
     },
     "metadata": {
      "needs_background": "light"
     },
     "output_type": "display_data"
    },
    {
     "name": "stdout",
     "output_type": "stream",
     "text": [
      "\n",
      " ==================== Any_Complain ====================\n"
     ]
    },
    {
     "data": {
      "image/png": "[encoded data removed]",
      "text/plain": [
       "<Figure size 432x288 with 1 Axes>"
      ]
     },
     "metadata": {
      "needs_background": "light"
     },
     "output_type": "display_data"
    },
    {
     "name": "stdout",
     "output_type": "stream",
     "text": [
      "\n",
      " ==================== Response ====================\n"
     ]
    },
    {
     "data": {
      "image/png": "[encoded data removed]",
      "text/plain": [
       "<Figure size 432x288 with 1 Axes>"
      ]
     },
     "metadata": {
      "needs_background": "light"
     },
     "output_type": "display_data"
    }
   ],
   "source": [
    "numeric_distribution_plot(train)"
   ]
  },
  {
   "cell_type": "markdown",
   "id": "8d003da3",
   "metadata": {},
   "source": [
    "    - Most of the continuous features are normally distributed\n",
    "    - Disposable income seem to have an outlier. We'll investigate this"
   ]
  },
  {
   "cell_type": "markdown",
   "id": "325136f2",
   "metadata": {
    "id": "hidden-funds"
   },
   "source": [
    "### Dealing with Missing Values\n",
    "Fill the missing Disposable_Income values with the median Disposable income"
   ]
  },
  {
   "cell_type": "code",
   "execution_count": 10,
   "id": "41e4ae0d",
   "metadata": {
    "id": "graphic-catalyst"
   },
   "outputs": [],
   "source": [
    "train.Disposable_Income.fillna(train.Disposable_Income.median(), inplace=True)\n",
    "test.Disposable_Income.fillna(train.Disposable_Income.median(), inplace= True)"
   ]
  },
  {
   "cell_type": "markdown",
   "id": "e84ba9d4",
   "metadata": {},
   "source": [
    "### Handling Outliers"
   ]
  },
  {
   "cell_type": "code",
   "execution_count": 11,
   "id": "behavioral-imperial",
   "metadata": {
    "id": "behavioral-imperial",
    "outputId": "4ce079bd-6280-4022-c54e-4c889c77dc55"
   },
   "outputs": [
    {
     "data": {
      "text/plain": [
       "<AxesSubplot:xlabel='Disposable_Income'>"
      ]
     },
     "execution_count": 11,
     "metadata": {},
     "output_type": "execute_result"
    },
    {
     "data": {
      "image/png": "[encoded data removed]",
      "text/plain": [
       "<Figure size 432x288 with 1 Axes>"
      ]
     },
     "metadata": {
      "needs_background": "light"
     },
     "output_type": "display_data"
    }
   ],
   "source": [
    "sns.boxplot(train['Disposable_Income'])"
   ]
  },
  {
   "cell_type": "code",
   "execution_count": 12,
   "id": "fifty-princeton",
   "metadata": {
    "id": "fifty-princeton",
    "outputId": "c35e8fd7-6968-4986-8f75-632d332f439e"
   },
   "outputs": [
    {
     "data": {
      "text/html": [
       "<div>\n",
       "<style scoped>\n",
       "    .dataframe tbody tr th:only-of-type {\n",
       "        vertical-align: middle;\n",
       "    }\n",
       "\n",
       "    .dataframe tbody tr th {\n",
       "        vertical-align: top;\n",
       "    }\n",
       "\n",
       "    .dataframe thead th {\n",
       "        text-align: right;\n",
       "    }\n",
       "</style>\n",
       "<table border=\"1\" class=\"dataframe\">\n",
       "  <thead>\n",
       "    <tr style=\"text-align: right;\">\n",
       "      <th></th>\n",
       "      <th>ID</th>\n",
       "      <th>Year_of_Birth</th>\n",
       "      <th>Education_Level</th>\n",
       "      <th>Marital_Status</th>\n",
       "      <th>Disposable_Income</th>\n",
       "      <th>No_of_Kids_in_home</th>\n",
       "      <th>No_of_Teen_in_home</th>\n",
       "      <th>Date_Customer</th>\n",
       "      <th>Recency</th>\n",
       "      <th>Discounted_Purchases</th>\n",
       "      <th>WebPurchases</th>\n",
       "      <th>CatalogPurchases</th>\n",
       "      <th>StorePurchases</th>\n",
       "      <th>Amount_on_Wines</th>\n",
       "      <th>Amount_on_Fruits</th>\n",
       "      <th>Amount_on_MeatProducts</th>\n",
       "      <th>Amount_on_FishProducts</th>\n",
       "      <th>Amount_on_SweetProducts</th>\n",
       "      <th>Amount_on_GoldProds</th>\n",
       "      <th>WebVisitsMonth</th>\n",
       "      <th>Cmp3Accepted</th>\n",
       "      <th>Cmp4Accepted</th>\n",
       "      <th>Cmp5Accepted</th>\n",
       "      <th>Cmp1Accepted</th>\n",
       "      <th>Cmp2Accepted</th>\n",
       "      <th>Any_Complain</th>\n",
       "      <th>Response</th>\n",
       "    </tr>\n",
       "  </thead>\n",
       "  <tbody>\n",
       "    <tr>\n",
       "      <th>190</th>\n",
       "      <td>ID_VIUX07W2</td>\n",
       "      <td>1978</td>\n",
       "      <td>Graduation</td>\n",
       "      <td>Together</td>\n",
       "      <td>799999.2</td>\n",
       "      <td>1</td>\n",
       "      <td>0</td>\n",
       "      <td>2013-02-06</td>\n",
       "      <td>30</td>\n",
       "      <td>4</td>\n",
       "      <td>3</td>\n",
       "      <td>1</td>\n",
       "      <td>3</td>\n",
       "      <td>14</td>\n",
       "      <td>17</td>\n",
       "      <td>18</td>\n",
       "      <td>8</td>\n",
       "      <td>1</td>\n",
       "      <td>12</td>\n",
       "      <td>6</td>\n",
       "      <td>0</td>\n",
       "      <td>0</td>\n",
       "      <td>0</td>\n",
       "      <td>0</td>\n",
       "      <td>0</td>\n",
       "      <td>0</td>\n",
       "      <td>0</td>\n",
       "    </tr>\n",
       "  </tbody>\n",
       "</table>\n",
       "</div>"
      ],
      "text/plain": [
       "              ID  Year_of_Birth Education_Level Marital_Status  \\\n",
       "190  ID_VIUX07W2           1978      Graduation       Together   \n",
       "\n",
       "     Disposable_Income  No_of_Kids_in_home  No_of_Teen_in_home Date_Customer  \\\n",
       "190           799999.2                   1                   0    2013-02-06   \n",
       "\n",
       "     Recency  Discounted_Purchases  WebPurchases  CatalogPurchases  \\\n",
       "190       30                     4             3                 1   \n",
       "\n",
       "     StorePurchases  Amount_on_Wines  Amount_on_Fruits  \\\n",
       "190               3               14                17   \n",
       "\n",
       "     Amount_on_MeatProducts  Amount_on_FishProducts  Amount_on_SweetProducts  \\\n",
       "190                      18                       8                        1   \n",
       "\n",
       "     Amount_on_GoldProds  WebVisitsMonth  Cmp3Accepted  Cmp4Accepted  \\\n",
       "190                   12               6             0             0   \n",
       "\n",
       "     Cmp5Accepted  Cmp1Accepted  Cmp2Accepted  Any_Complain  Response  \n",
       "190             0             0             0             0         0  "
      ]
     },
     "execution_count": 12,
     "metadata": {},
     "output_type": "execute_result"
    }
   ],
   "source": [
    "train[train.Disposable_Income > 200000]"
   ]
  },
  {
   "cell_type": "code",
   "execution_count": 13,
   "id": "bronze-helena",
   "metadata": {
    "id": "bronze-helena"
   },
   "outputs": [],
   "source": [
    "# drop row with outlier disposable income\n",
    "train = train.drop(190)"
   ]
  },
  {
   "cell_type": "markdown",
   "id": "prescribed-fisher",
   "metadata": {
    "id": "prescribed-fisher"
   },
   "source": [
    "## Data Preprocessing\n",
    "Next will be converting all Values to Numerical, as most AI and Machine Learning algorithms work better with numerical inputs. "
   ]
  },
  {
   "cell_type": "code",
   "execution_count": 14,
   "id": "c479f692",
   "metadata": {
    "id": "imported-victory"
   },
   "outputs": [],
   "source": [
    "def encode_data(df):    \n",
    "    # encoding education column values\n",
    "    education = {\n",
    "        \"Basic\": 1,\n",
    "        \"2n Cycle\": 2,\n",
    "        \"Graduation\": 3,\n",
    "        \"Master\": 4,\n",
    "        \"PhD\": 5,\n",
    "    }\n",
    "\n",
    "    df.Education_Level = df.Education_Level.map(education)\n",
    "\n",
    "    # encoding marital status column values\n",
    "    mar = {\n",
    "        \"Married\"  :   1,\n",
    "        \"Together\":    2,\n",
    "        \"Single\":      3,\n",
    "        \"Divorced\":    4,\n",
    "        \"Widow\":       5,\n",
    "        \"Alone\":       3,\n",
    "        \"YOLO\":        6,\n",
    "        \"Absurd\":      6\n",
    "    }\n",
    "\n",
    "    df.Marital_Status = df.Marital_Status.map(mar)\n",
    "    #display(df)\n",
    "    return df"
   ]
  },
  {
   "cell_type": "code",
   "execution_count": 15,
   "id": "fb4a98df",
   "metadata": {},
   "outputs": [],
   "source": [
    "# encode training and test data\n",
    "train = encode_data(train)\n",
    "test = encode_data(test)"
   ]
  },
  {
   "cell_type": "markdown",
   "id": "toxic-insight",
   "metadata": {
    "id": "toxic-insight"
   },
   "source": [
    "## Feature Engineering"
   ]
  },
  {
   "cell_type": "code",
   "execution_count": 16,
   "id": "classical-amino",
   "metadata": {
    "id": "classical-amino",
    "outputId": "52a244b8-1af1-4cc3-fcff-0908a04421ac"
   },
   "outputs": [
    {
     "name": "stdout",
     "output_type": "stream",
     "text": [
      "max date: 2014-12-05 00:00:00, min date: 2012-01-08 00:00:00\n"
     ]
    }
   ],
   "source": [
    "print(f\"max date: {max(train.Date_Customer)}, min date: {min(train.Date_Customer)}\")"
   ]
  },
  {
   "cell_type": "code",
   "execution_count": 17,
   "id": "modular-language",
   "metadata": {
    "id": "modular-language"
   },
   "outputs": [],
   "source": [
    "def engineer_features(df):\n",
    "    # engineer date features\n",
    "    df['year'] = df.Date_Customer.dt.year\n",
    "    df['month'] = df.Date_Customer.dt.month\n",
    "    df['quarter'] = df.Date_Customer.dt.quarter\n",
    "\n",
    "    df['year_month'] = df['year'].apply(str) + \"_\"  + df['month'].apply(str)\n",
    "    df['year_month_int'], _ = pd.factorize(df['year_month'])  # encode the year_month values\n",
    "\n",
    "\n",
    "    today = pd.to_datetime('2015-1-1')   # assuming we performed the analysis few days after the last recorded customer entry\n",
    "\n",
    "    df['duration_days'] = (today - df['Date_Customer']).dt.days\n",
    "    df['duration_months'] = ((today- df.Date_Customer)/np.timedelta64(1, 'M')).astype(int)\n",
    "\n",
    "    df['is_month_end'] = df.Date_Customer.dt.is_month_end.astype(int)\n",
    "    df['is_month_start'] = df.Date_Customer.dt.is_month_start.astype(int)\n",
    "    \n",
    "    \n",
    "    # engineer recency features\n",
    "    # bin_label = [1,2,3,4,5]\n",
    "    df['Recency_bin'] = pd.qcut(df.Recency, q = [0, .2, .4, .6, .8, 1], labels=False)\n",
    "\n",
    "    \n",
    "    # engineer some more features\n",
    "    purchases_features = ['Discounted_Purchases', 'WebPurchases', 'CatalogPurchases', 'StorePurchases']\n",
    "\n",
    "    product_amount_features = ['Amount_on_Wines', 'Amount_on_Fruits', 'Amount_on_MeatProducts', 'Amount_on_FishProducts',\n",
    "                           'Amount_on_SweetProducts', 'Amount_on_GoldProds']\n",
    "    \n",
    "    df['total_purchases'] = df[purchases_features].sum(axis = 1)   # sum all purchases columns into one\n",
    "    df['total_amount_on_products'] = df[product_amount_features].sum(axis = 1)  # sum all product amount columns into one\n",
    "    df['no_of_children'] = df['No_of_Kids_in_home'] + df['No_of_Teen_in_home']\n",
    "    \n",
    "    num_features = df.select_dtypes(include = 'number').columns\n",
    "    return df[num_features]"
   ]
  },
  {
   "cell_type": "code",
   "execution_count": 18,
   "id": "7616553a",
   "metadata": {},
   "outputs": [],
   "source": [
    "train = engineer_features(train)\n",
    "test = engineer_features(test)"
   ]
  },
  {
   "cell_type": "code",
   "execution_count": 19,
   "id": "289df9e2",
   "metadata": {},
   "outputs": [
    {
     "data": {
      "text/html": [
       "<div>\n",
       "<style scoped>\n",
       "    .dataframe tbody tr th:only-of-type {\n",
       "        vertical-align: middle;\n",
       "    }\n",
       "\n",
       "    .dataframe tbody tr th {\n",
       "        vertical-align: top;\n",
       "    }\n",
       "\n",
       "    .dataframe thead th {\n",
       "        text-align: right;\n",
       "    }\n",
       "</style>\n",
       "<table border=\"1\" class=\"dataframe\">\n",
       "  <thead>\n",
       "    <tr style=\"text-align: right;\">\n",
       "      <th></th>\n",
       "      <th>Year_of_Birth</th>\n",
       "      <th>Education_Level</th>\n",
       "      <th>Marital_Status</th>\n",
       "      <th>Disposable_Income</th>\n",
       "      <th>No_of_Kids_in_home</th>\n",
       "      <th>No_of_Teen_in_home</th>\n",
       "      <th>Recency</th>\n",
       "      <th>Discounted_Purchases</th>\n",
       "      <th>WebPurchases</th>\n",
       "      <th>CatalogPurchases</th>\n",
       "      <th>StorePurchases</th>\n",
       "      <th>Amount_on_Wines</th>\n",
       "      <th>Amount_on_Fruits</th>\n",
       "      <th>Amount_on_MeatProducts</th>\n",
       "      <th>Amount_on_FishProducts</th>\n",
       "      <th>...</th>\n",
       "      <th>Cmp2Accepted</th>\n",
       "      <th>Any_Complain</th>\n",
       "      <th>Response</th>\n",
       "      <th>year</th>\n",
       "      <th>month</th>\n",
       "      <th>quarter</th>\n",
       "      <th>year_month_int</th>\n",
       "      <th>duration_days</th>\n",
       "      <th>duration_months</th>\n",
       "      <th>is_month_end</th>\n",
       "      <th>is_month_start</th>\n",
       "      <th>Recency_bin</th>\n",
       "      <th>total_purchases</th>\n",
       "      <th>total_amount_on_products</th>\n",
       "      <th>no_of_children</th>\n",
       "    </tr>\n",
       "  </thead>\n",
       "  <tbody>\n",
       "    <tr>\n",
       "      <th>0</th>\n",
       "      <td>1955</td>\n",
       "      <td>3</td>\n",
       "      <td>4</td>\n",
       "      <td>77504.4</td>\n",
       "      <td>1</td>\n",
       "      <td>1</td>\n",
       "      <td>56</td>\n",
       "      <td>2</td>\n",
       "      <td>1</td>\n",
       "      <td>1</td>\n",
       "      <td>4</td>\n",
       "      <td>71</td>\n",
       "      <td>3</td>\n",
       "      <td>16</td>\n",
       "      <td>0</td>\n",
       "      <td>...</td>\n",
       "      <td>0</td>\n",
       "      <td>0</td>\n",
       "      <td>0</td>\n",
       "      <td>2014</td>\n",
       "      <td>6</td>\n",
       "      <td>2</td>\n",
       "      <td>0</td>\n",
       "      <td>193</td>\n",
       "      <td>6</td>\n",
       "      <td>0</td>\n",
       "      <td>0</td>\n",
       "      <td>2</td>\n",
       "      <td>8</td>\n",
       "      <td>116</td>\n",
       "      <td>2</td>\n",
       "    </tr>\n",
       "    <tr>\n",
       "      <th>1</th>\n",
       "      <td>1958</td>\n",
       "      <td>3</td>\n",
       "      <td>2</td>\n",
       "      <td>56784.0</td>\n",
       "      <td>0</td>\n",
       "      <td>1</td>\n",
       "      <td>17</td>\n",
       "      <td>6</td>\n",
       "      <td>5</td>\n",
       "      <td>1</td>\n",
       "      <td>8</td>\n",
       "      <td>205</td>\n",
       "      <td>22</td>\n",
       "      <td>111</td>\n",
       "      <td>50</td>\n",
       "      <td>...</td>\n",
       "      <td>0</td>\n",
       "      <td>0</td>\n",
       "      <td>0</td>\n",
       "      <td>2013</td>\n",
       "      <td>1</td>\n",
       "      <td>1</td>\n",
       "      <td>1</td>\n",
       "      <td>723</td>\n",
       "      <td>23</td>\n",
       "      <td>0</td>\n",
       "      <td>0</td>\n",
       "      <td>0</td>\n",
       "      <td>20</td>\n",
       "      <td>422</td>\n",
       "      <td>1</td>\n",
       "    </tr>\n",
       "    <tr>\n",
       "      <th>2</th>\n",
       "      <td>1962</td>\n",
       "      <td>3</td>\n",
       "      <td>3</td>\n",
       "      <td>103714.8</td>\n",
       "      <td>0</td>\n",
       "      <td>0</td>\n",
       "      <td>17</td>\n",
       "      <td>0</td>\n",
       "      <td>7</td>\n",
       "      <td>4</td>\n",
       "      <td>7</td>\n",
       "      <td>469</td>\n",
       "      <td>31</td>\n",
       "      <td>873</td>\n",
       "      <td>29</td>\n",
       "      <td>...</td>\n",
       "      <td>0</td>\n",
       "      <td>0</td>\n",
       "      <td>1</td>\n",
       "      <td>2013</td>\n",
       "      <td>11</td>\n",
       "      <td>4</td>\n",
       "      <td>2</td>\n",
       "      <td>406</td>\n",
       "      <td>13</td>\n",
       "      <td>0</td>\n",
       "      <td>0</td>\n",
       "      <td>0</td>\n",
       "      <td>18</td>\n",
       "      <td>1457</td>\n",
       "      <td>0</td>\n",
       "    </tr>\n",
       "    <tr>\n",
       "      <th>3</th>\n",
       "      <td>1979</td>\n",
       "      <td>2</td>\n",
       "      <td>3</td>\n",
       "      <td>46311.6</td>\n",
       "      <td>1</td>\n",
       "      <td>0</td>\n",
       "      <td>49</td>\n",
       "      <td>3</td>\n",
       "      <td>4</td>\n",
       "      <td>1</td>\n",
       "      <td>3</td>\n",
       "      <td>56</td>\n",
       "      <td>15</td>\n",
       "      <td>49</td>\n",
       "      <td>17</td>\n",
       "      <td>...</td>\n",
       "      <td>0</td>\n",
       "      <td>0</td>\n",
       "      <td>0</td>\n",
       "      <td>2013</td>\n",
       "      <td>9</td>\n",
       "      <td>3</td>\n",
       "      <td>3</td>\n",
       "      <td>475</td>\n",
       "      <td>15</td>\n",
       "      <td>0</td>\n",
       "      <td>0</td>\n",
       "      <td>2</td>\n",
       "      <td>11</td>\n",
       "      <td>185</td>\n",
       "      <td>1</td>\n",
       "    </tr>\n",
       "    <tr>\n",
       "      <th>4</th>\n",
       "      <td>1959</td>\n",
       "      <td>3</td>\n",
       "      <td>1</td>\n",
       "      <td>87486.0</td>\n",
       "      <td>0</td>\n",
       "      <td>0</td>\n",
       "      <td>59</td>\n",
       "      <td>1</td>\n",
       "      <td>3</td>\n",
       "      <td>7</td>\n",
       "      <td>9</td>\n",
       "      <td>412</td>\n",
       "      <td>117</td>\n",
       "      <td>445</td>\n",
       "      <td>181</td>\n",
       "      <td>...</td>\n",
       "      <td>0</td>\n",
       "      <td>0</td>\n",
       "      <td>0</td>\n",
       "      <td>2014</td>\n",
       "      <td>1</td>\n",
       "      <td>1</td>\n",
       "      <td>4</td>\n",
       "      <td>345</td>\n",
       "      <td>11</td>\n",
       "      <td>0</td>\n",
       "      <td>0</td>\n",
       "      <td>2</td>\n",
       "      <td>20</td>\n",
       "      <td>1523</td>\n",
       "      <td>0</td>\n",
       "    </tr>\n",
       "  </tbody>\n",
       "</table>\n",
       "<p>5 rows × 37 columns</p>\n",
       "</div>"
      ],
      "text/plain": [
       "   Year_of_Birth  Education_Level  Marital_Status  Disposable_Income  \\\n",
       "0           1955                3               4            77504.4   \n",
       "1           1958                3               2            56784.0   \n",
       "2           1962                3               3           103714.8   \n",
       "3           1979                2               3            46311.6   \n",
       "4           1959                3               1            87486.0   \n",
       "\n",
       "   No_of_Kids_in_home  No_of_Teen_in_home  Recency  Discounted_Purchases  \\\n",
       "0                   1                   1       56                     2   \n",
       "1                   0                   1       17                     6   \n",
       "2                   0                   0       17                     0   \n",
       "3                   1                   0       49                     3   \n",
       "4                   0                   0       59                     1   \n",
       "\n",
       "   WebPurchases  CatalogPurchases  StorePurchases  Amount_on_Wines  \\\n",
       "0             1                 1               4               71   \n",
       "1             5                 1               8              205   \n",
       "2             7                 4               7              469   \n",
       "3             4                 1               3               56   \n",
       "4             3                 7               9              412   \n",
       "\n",
       "   Amount_on_Fruits  Amount_on_MeatProducts  Amount_on_FishProducts  ...  \\\n",
       "0                 3                      16                       0  ...   \n",
       "1                22                     111                      50  ...   \n",
       "2                31                     873                      29  ...   \n",
       "3                15                      49                      17  ...   \n",
       "4               117                     445                     181  ...   \n",
       "\n",
       "   Cmp2Accepted  Any_Complain  Response  year  month  quarter  year_month_int  \\\n",
       "0             0             0         0  2014      6        2               0   \n",
       "1             0             0         0  2013      1        1               1   \n",
       "2             0             0         1  2013     11        4               2   \n",
       "3             0             0         0  2013      9        3               3   \n",
       "4             0             0         0  2014      1        1               4   \n",
       "\n",
       "   duration_days  duration_months  is_month_end  is_month_start  Recency_bin  \\\n",
       "0            193                6             0               0            2   \n",
       "1            723               23             0               0            0   \n",
       "2            406               13             0               0            0   \n",
       "3            475               15             0               0            2   \n",
       "4            345               11             0               0            2   \n",
       "\n",
       "   total_purchases  total_amount_on_products  no_of_children  \n",
       "0                8                       116               2  \n",
       "1               20                       422               1  \n",
       "2               18                      1457               0  \n",
       "3               11                       185               1  \n",
       "4               20                      1523               0  \n",
       "\n",
       "[5 rows x 37 columns]"
      ]
     },
     "execution_count": 19,
     "metadata": {},
     "output_type": "execute_result"
    }
   ],
   "source": [
    "train.head()"
   ]
  },
  {
   "cell_type": "code",
   "execution_count": null,
   "id": "known-sleeve",
   "metadata": {
    "id": "known-sleeve"
   },
   "outputs": [],
   "source": []
  },
  {
   "cell_type": "markdown",
   "id": "female-crystal",
   "metadata": {
    "id": "female-crystal"
   },
   "source": [
    "## Modelling"
   ]
  },
  {
   "cell_type": "code",
   "execution_count": 21,
   "id": "2e1c5d17",
   "metadata": {},
   "outputs": [],
   "source": [
    "# !pip install catboost lightgbm"
   ]
  },
  {
   "cell_type": "code",
   "execution_count": 20,
   "id": "elementary-correction",
   "metadata": {
    "id": "elementary-correction"
   },
   "outputs": [],
   "source": [
    "from catboost import CatBoostClassifier\n",
    "from xgboost import XGBClassifier\n",
    "from lightgbm import LGBMClassifier\n",
    "from sklearn.model_selection import train_test_split, cross_val_score, StratifiedKFold\n",
    "from sklearn.metrics import log_loss, f1_score, accuracy_score"
   ]
  },
  {
   "cell_type": "code",
   "execution_count": 21,
   "id": "971fe5a5",
   "metadata": {
    "id": "technological-portfolio"
   },
   "outputs": [],
   "source": [
    "# Separate training features from target\n",
    "features = train.drop(['Response'], axis=1)\n",
    "target = train['Response']"
   ]
  },
  {
   "cell_type": "code",
   "execution_count": 22,
   "id": "demonstrated-volunteer",
   "metadata": {
    "id": "demonstrated-volunteer"
   },
   "outputs": [],
   "source": [
    "# apply a 80/20 train-validation set split\n",
    "X_train, X_val, y_train, y_val = train_test_split(features, target, test_size=0.2, random_state=42)"
   ]
  },
  {
   "cell_type": "markdown",
   "id": "parental-future",
   "metadata": {
    "id": "parental-future"
   },
   "source": [
    "### Baseline Models"
   ]
  },
  {
   "cell_type": "code",
   "execution_count": 23,
   "id": "f4ca0109",
   "metadata": {
    "id": "compact-gothic",
    "outputId": "aec0f9e7-5d04-4650-909c-ac65ba6692ff"
   },
   "outputs": [],
   "source": [
    "# model building\n",
    "model = XGBClassifier(scale_pos_weight = 8, max_depth = 6, n_estimators = 500, eval_metric='logloss')\n",
    "model.fit(X_train, y_train)\n",
    "\n",
    "preds_val = model.predict(X_val)  # make validation predictions\n",
    "preds_test = model.predict(test)  # make test predictions"
   ]
  },
  {
   "cell_type": "code",
   "execution_count": 24,
   "id": "90d5d939",
   "metadata": {
    "id": "compact-gothic",
    "outputId": "aec0f9e7-5d04-4650-909c-ac65ba6692ff"
   },
   "outputs": [
    {
     "name": "stdout",
     "output_type": "stream",
     "text": [
      "Model has an accuracy of 0.8694267515923567\n",
      "Model has an f1 score of 0.5494505494505495\n"
     ]
    }
   ],
   "source": [
    "# Model evaluation\n",
    "print(f'Model has an accuracy of {accuracy_score(y_val, preds_val)}')\n",
    "print(f'Model has an f1 score of {f1_score(preds_val, y_val)}')"
   ]
  },
  {
   "cell_type": "code",
   "execution_count": 25,
   "id": "3acac257",
   "metadata": {},
   "outputs": [],
   "source": [
    "from sklearn.metrics import classification_report"
   ]
  },
  {
   "cell_type": "code",
   "execution_count": 26,
   "id": "4022139f",
   "metadata": {},
   "outputs": [
    {
     "name": "stdout",
     "output_type": "stream",
     "text": [
      "              precision    recall  f1-score   support\n",
      "\n",
      "           0       0.93      0.92      0.92       269\n",
      "           1       0.54      0.56      0.55        45\n",
      "\n",
      "    accuracy                           0.87       314\n",
      "   macro avg       0.73      0.74      0.74       314\n",
      "weighted avg       0.87      0.87      0.87       314\n",
      "\n"
     ]
    }
   ],
   "source": [
    "print(classification_report(y_val, preds_val))"
   ]
  },
  {
   "cell_type": "markdown",
   "id": "0410d663",
   "metadata": {},
   "source": [
    "    - f1 score is a little above average, let's optimize for this by resampling our data"
   ]
  },
  {
   "cell_type": "markdown",
   "id": "electronic-soldier",
   "metadata": {
    "id": "electronic-soldier"
   },
   "source": [
    "### Modelling with SMOTE"
   ]
  },
  {
   "cell_type": "code",
   "execution_count": 30,
   "id": "north-profile",
   "metadata": {
    "id": "north-profile"
   },
   "outputs": [],
   "source": [
    "from imblearn.over_sampling import SMOTE\n",
    "sm = SMOTE(sampling_strategy={1:1000, 0:1400}, random_state=42)\n",
    "X_, y_ = sm.fit_resample(features, target)"
   ]
  },
  {
   "cell_type": "code",
   "execution_count": 31,
   "id": "pressing-psychiatry",
   "metadata": {
    "id": "pressing-psychiatry",
    "outputId": "f4770d92-07fd-4490-e70d-fe50f92c896c"
   },
   "outputs": [
    {
     "name": "stdout",
     "output_type": "stream",
     "text": [
      "F1-score for fold 1: 0.7126436781609196\n",
      "F1-score for fold 2: 0.8314606741573033\n",
      "F1-score for fold 3: 0.8808290155440415\n",
      "F1-score for fold 4: 0.9259259259259259\n",
      "F1-score for fold 5: 0.9611650485436893\n",
      "F1-score for fold 6: 0.9313725490196078\n",
      "F1-score for fold 7: 0.9245283018867924\n",
      "F1-score for fold 8: 0.9611650485436893\n",
      "F1-score for fold 9: 0.9801980198019802\n",
      "F1-score for fold 10: 0.8899082568807339\n",
      "\n",
      "Average training f1-score: 0.8999196518464683\n",
      "\n",
      "Average training accuracy-score: 0.9195833333333333\n"
     ]
    }
   ],
   "source": [
    "# oof = out-of-fold\n",
    "oof_f1=[]\n",
    "oof_acc = []\n",
    "oof_predictions=[]\n",
    "\n",
    "params = {'learning_rate': 0.05,\n",
    "         'subsample': 0.7845527188607021,\n",
    "         'colsample_bytree': 0.6474680443294045,\n",
    "         'max_depth': 8,\n",
    "         'scale_pos_weight': 1}\n",
    "\n",
    "fold = StratifiedKFold(n_splits=10)\n",
    "\n",
    "k=1\n",
    "for train_index, test_index in fold.split(X_, y_):\n",
    "        \n",
    "    X_train, X_val = X_.iloc[train_index], X_.iloc[test_index]\n",
    "    y_train, y_val = y_.iloc[train_index], y_.iloc[test_index]\n",
    "\n",
    "    model = LGBMClassifier(**params, n_estimators=1000)\n",
    "\n",
    "    model.fit(X_train,y_train,eval_set=[(X_train,y_train),(X_val, y_val)], early_stopping_rounds=300,verbose=False) #early100\n",
    "    predictions_val = model.predict(X_val)\n",
    "\n",
    "    print(f'F1-score for fold {k}: {f1_score(y_val, predictions_val)}')\n",
    "    k+=1                \n",
    "    oof_f1.append(f1_score(y_val, predictions_val))\n",
    "    oof_acc.append(accuracy_score(y_val, predictions_val))\n",
    "    predictions_test = model.predict_proba(test)[:, -1]\n",
    "    oof_predictions.append(predictions_test)\n",
    "\n",
    "\n",
    "print(f'\\nAverage training f1-score: {np.mean(oof_f1)}')    \n",
    "print(f'\\nAverage training accuracy-score: {np.mean(oof_acc)}')"
   ]
  },
  {
   "cell_type": "code",
   "execution_count": 32,
   "id": "b8f56bb5",
   "metadata": {},
   "outputs": [
    {
     "name": "stdout",
     "output_type": "stream",
     "text": [
      "              precision    recall  f1-score   support\n",
      "\n",
      "           0       0.98      0.85      0.91       140\n",
      "           1       0.82      0.97      0.89       100\n",
      "\n",
      "    accuracy                           0.90       240\n",
      "   macro avg       0.90      0.91      0.90       240\n",
      "weighted avg       0.91      0.90      0.90       240\n",
      "\n"
     ]
    }
   ],
   "source": [
    "print(classification_report(y_val, predictions_val))"
   ]
  },
  {
   "cell_type": "markdown",
   "id": "716cfd0a",
   "metadata": {},
   "source": [
    "    That's it! Our model now has an accuracy of ~92% and f1-score of ~90%"
   ]
  },
  {
   "cell_type": "markdown",
   "id": "fb8a113e",
   "metadata": {},
   "source": [
    "#### Feature Importance"
   ]
  },
  {
   "cell_type": "code",
   "execution_count": 33,
   "id": "0c99ddeb",
   "metadata": {},
   "outputs": [
    {
     "data": {
      "image/png": "[encoded data removed]",
      "text/plain": [
       "<Figure size 1440x864 with 1 Axes>"
      ]
     },
     "metadata": {
      "needs_background": "light"
     },
     "output_type": "display_data"
    }
   ],
   "source": [
    "# 0.7831404345536787\n",
    "feature_importance_df = pd.DataFrame(model.feature_importances_, columns=['importance'])\n",
    "feature_importance_df['feature'] = features.columns\n",
    "\n",
    "plt.figure(figsize=(20, 12));\n",
    "sns.barplot(x=\"importance\", y=\"feature\", data=feature_importance_df.sort_values(by=['importance'], ascending=False))\n",
    "plt.title('Model Feature Importance')\n",
    "plt.show()"
   ]
  },
  {
   "cell_type": "code",
   "execution_count": 34,
   "id": "88d9958b",
   "metadata": {},
   "outputs": [],
   "source": [
    "# the model performs just as good with the\n",
    "selected_features = (feature_importance_df.sort_values(by=['importance'], ascending=False).head(25))['feature'].values.tolist()\n",
    "\n",
    "# we could retrain our model with these  new selected features .. but there isnt much difference in the model f1-score on doing this"
   ]
  },
  {
   "cell_type": "markdown",
   "id": "1d0d5f44",
   "metadata": {
    "id": "minimal-trace"
   },
   "source": [
    "## Prediction"
   ]
  },
  {
   "cell_type": "code",
   "execution_count": 35,
   "id": "above-philippines",
   "metadata": {
    "id": "above-philippines"
   },
   "outputs": [
    {
     "data": {
      "text/html": [
       "<div>\n",
       "<style scoped>\n",
       "    .dataframe tbody tr th:only-of-type {\n",
       "        vertical-align: middle;\n",
       "    }\n",
       "\n",
       "    .dataframe tbody tr th {\n",
       "        vertical-align: top;\n",
       "    }\n",
       "\n",
       "    .dataframe thead th {\n",
       "        text-align: right;\n",
       "    }\n",
       "</style>\n",
       "<table border=\"1\" class=\"dataframe\">\n",
       "  <thead>\n",
       "    <tr style=\"text-align: right;\">\n",
       "      <th></th>\n",
       "      <th>ID</th>\n",
       "      <th>Response</th>\n",
       "    </tr>\n",
       "  </thead>\n",
       "  <tbody>\n",
       "    <tr>\n",
       "      <th>0</th>\n",
       "      <td>ID_ZPMABNVX</td>\n",
       "      <td>NaN</td>\n",
       "    </tr>\n",
       "    <tr>\n",
       "      <th>1</th>\n",
       "      <td>ID_WFE91NAA</td>\n",
       "      <td>NaN</td>\n",
       "    </tr>\n",
       "    <tr>\n",
       "      <th>2</th>\n",
       "      <td>ID_JV11RBRK</td>\n",
       "      <td>NaN</td>\n",
       "    </tr>\n",
       "    <tr>\n",
       "      <th>3</th>\n",
       "      <td>ID_6B7SVKY9</td>\n",
       "      <td>NaN</td>\n",
       "    </tr>\n",
       "    <tr>\n",
       "      <th>4</th>\n",
       "      <td>ID_GOVUZ545</td>\n",
       "      <td>NaN</td>\n",
       "    </tr>\n",
       "  </tbody>\n",
       "</table>\n",
       "</div>"
      ],
      "text/plain": [
       "            ID  Response\n",
       "0  ID_ZPMABNVX       NaN\n",
       "1  ID_WFE91NAA       NaN\n",
       "2  ID_JV11RBRK       NaN\n",
       "3  ID_6B7SVKY9       NaN\n",
       "4  ID_GOVUZ545       NaN"
      ]
     },
     "execution_count": 35,
     "metadata": {},
     "output_type": "execute_result"
    }
   ],
   "source": [
    "submission = pd.read_csv('data/SampleSubmission.csv')\n",
    "submission.head()"
   ]
  },
  {
   "cell_type": "code",
   "execution_count": 36,
   "id": "reasonable-ukraine",
   "metadata": {
    "id": "reasonable-ukraine"
   },
   "outputs": [
    {
     "data": {
      "text/html": [
       "<div>\n",
       "<style scoped>\n",
       "    .dataframe tbody tr th:only-of-type {\n",
       "        vertical-align: middle;\n",
       "    }\n",
       "\n",
       "    .dataframe tbody tr th {\n",
       "        vertical-align: top;\n",
       "    }\n",
       "\n",
       "    .dataframe thead th {\n",
       "        text-align: right;\n",
       "    }\n",
       "</style>\n",
       "<table border=\"1\" class=\"dataframe\">\n",
       "  <thead>\n",
       "    <tr style=\"text-align: right;\">\n",
       "      <th></th>\n",
       "      <th>ID</th>\n",
       "      <th>Response</th>\n",
       "    </tr>\n",
       "  </thead>\n",
       "  <tbody>\n",
       "    <tr>\n",
       "      <th>0</th>\n",
       "      <td>ID_ZPMABNVX</td>\n",
       "      <td>0</td>\n",
       "    </tr>\n",
       "    <tr>\n",
       "      <th>1</th>\n",
       "      <td>ID_WFE91NAA</td>\n",
       "      <td>0</td>\n",
       "    </tr>\n",
       "    <tr>\n",
       "      <th>2</th>\n",
       "      <td>ID_JV11RBRK</td>\n",
       "      <td>0</td>\n",
       "    </tr>\n",
       "    <tr>\n",
       "      <th>3</th>\n",
       "      <td>ID_6B7SVKY9</td>\n",
       "      <td>0</td>\n",
       "    </tr>\n",
       "    <tr>\n",
       "      <th>4</th>\n",
       "      <td>ID_GOVUZ545</td>\n",
       "      <td>0</td>\n",
       "    </tr>\n",
       "  </tbody>\n",
       "</table>\n",
       "</div>"
      ],
      "text/plain": [
       "            ID  Response\n",
       "0  ID_ZPMABNVX         0\n",
       "1  ID_WFE91NAA         0\n",
       "2  ID_JV11RBRK         0\n",
       "3  ID_6B7SVKY9         0\n",
       "4  ID_GOVUZ545         0"
      ]
     },
     "execution_count": 36,
     "metadata": {},
     "output_type": "execute_result"
    }
   ],
   "source": [
    "submission['Response'] = np.where(predictions_test > 0.45, 1, 0)\n",
    "submission.head()"
   ]
  },
  {
   "cell_type": "code",
   "execution_count": 37,
   "id": "trying-germany",
   "metadata": {
    "id": "trying-germany"
   },
   "outputs": [],
   "source": [
    "submission.to_csv('lgb_cat_5fold.csv', index = False)"
   ]
  },
  {
   "cell_type": "markdown",
   "id": "41fe2762",
   "metadata": {},
   "source": [
    "#### Save Model"
   ]
  },
  {
   "cell_type": "code",
   "execution_count": 38,
   "id": "655dd480",
   "metadata": {},
   "outputs": [],
   "source": [
    "import joblib"
   ]
  },
  {
   "cell_type": "code",
   "execution_count": 39,
   "id": "958f9cec",
   "metadata": {},
   "outputs": [
    {
     "data": {
      "text/plain": [
       "['customer_response_model.sav']"
      ]
     },
     "execution_count": 39,
     "metadata": {},
     "output_type": "execute_result"
    }
   ],
   "source": [
    "# save model to disk\n",
    "filename = 'customer_response_model.sav'\n",
    "joblib.dump(model, filename)"
   ]
  },
  {
   "cell_type": "code",
   "execution_count": 37,
   "id": "b7c5e3db",
   "metadata": {},
   "outputs": [],
   "source": [
    "# load model from disk\n",
    "# loaded_model = joblib.load(filename)"
   ]
  }
 ],
 "metadata": {
  "colab": {
   "name": "Copy of DSN_AIBootcamp.ipynb",
   "provenance": []
  },
  "kernelspec": {
   "display_name": "Python 3 (ipykernel)",
   "language": "python",
   "name": "python3"
  },
  "language_info": {
   "codemirror_mode": {
    "name": "ipython",
    "version": 3
   },
   "file_extension": ".py",
   "mimetype": "text/x-python",
   "name": "python",
   "nbconvert_exporter": "python",
   "pygments_lexer": "ipython3",
   "version": "3.8.12"
  }
 },
 "nbformat": 4,
 "nbformat_minor": 5
}
